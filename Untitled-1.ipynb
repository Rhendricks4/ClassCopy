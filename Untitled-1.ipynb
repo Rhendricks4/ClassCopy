{
 "cells": [
  {
   "cell_type": "code",
   "execution_count": null,
   "id": "bf9bdae4",
   "metadata": {},
   "outputs": [],
   "source": [
    "foo = 3\n",
    "bar = 3.1\n",
    "myname = \"Rylan Hendricks\"\n",
    "\n",
    "foo_type = type(foo)\n",
    "bar_type = type(bar)\n",
    "myname_type = type(myname)"
   ]
  },
  {
   "cell_type": "code",
   "execution_count": null,
   "id": "d9bfb3a3",
   "metadata": {},
   "outputs": [],
   "source": [
    "foo = 3\n",
    "bar = 3.1\n",
    "myname = \"Rylan Hendricks\"\n",
    "\n",
    "foo_type = type(foo)\n",
    "bar_type = type(bar)\n",
    "myname_type = type(myname)\n",
    "\n",
    "if foo < bar:\n",
    "    print(\"foo\", foo, \"<\", \"bar\", bar)\n",
    "else:\n",
    "    print(\"bar\", bar, \"<\", \"foo\", foo)\n",
    "print(foo_type, bar_type, myname_type)\n",
    "\n",
    "i = 1\n",
    "for i in range(1, 11):\n",
    "    print(i**2)\n",
    "    i += 1\n",
    "\n",
    "j = 1\n",
    "for j in range(1, 11):\n",
    "    if j == 7:\n",
    "        pass\n",
    "    else:\n",
    "        print(j**2)\n",
    "j += 1"
   ]
  },
  {
   "cell_type": "code",
   "execution_count": null,
   "id": "93f499e6",
   "metadata": {},
   "outputs": [],
   "source": [
    "numb = input(\"Please pick a number: \")\n",
    "numb = int(numb)\n",
    "def isPrime(num : int) -> bool:\n",
    "    for m in range(1, num - 1):\n",
    "        if num // m == 0 :\n",
    "            print(\"This is not a prime number\")\n",
    "            return False\n",
    "        else:\n",
    "            print(\"This is a prime number\")\n",
    "            return True\n",
    "    \n",
    "isPrime(numb)"
   ]
  },
  {
   "cell_type": "code",
   "execution_count": null,
   "id": "98bfb81f",
   "metadata": {},
   "outputs": [],
   "source": [
    "from math import sqrt\n",
    "class Vertex:\n",
    "    def __init__(self, xcoord, ycoord):\n",
    "        \n",
    "        self.x = xcoord\n",
    "        self.y = ycoord\n",
    "        \n",
    "        \n",
    "\n",
    "\n",
    "def Distance(v1, v2):\n",
    "    z = sqrt((v1.x - v2.x)**2 +(v1.y - v2.y)**2)\n",
    "    return z\n",
    "\n",
    "\n",
    "class Triangle:\n",
    "    def __init__(self, v1, v2, v3):\n",
    "        \n",
    "        self.a = v1\n",
    "        self.b = v2\n",
    "        self.c = v3\n",
    "\n",
    "    def area(self):\n",
    "        d1 = Distance(self.a, self.b)\n",
    "        d2 = Distance(self.b, self.c)\n",
    "        d3 = Distance(self.c, self.a)\n",
    "\n",
    "        s = (d1 + d2 +d3) // 2\n",
    "        x = sqrt(s * (s-d1) * (s-d2) * (s-d3))\n",
    "        print(x)\n",
    "\n",
    "v1 = Vertex(2,3)\n",
    "v2 = Vertex(3,4)\n",
    "v3 = Vertex(0,0)\n",
    "mytri = Triangle(v1, v2, v3) \n",
    "print(mytri.area()) "
   ]
  },
  {
   "cell_type": "code",
   "execution_count": null,
   "id": "01fa20cf",
   "metadata": {},
   "outputs": [],
   "source": [
    "\n"
   ]
  }
 ],
 "metadata": {
  "language_info": {
   "name": "python"
  }
 },
 "nbformat": 4,
 "nbformat_minor": 5
}
